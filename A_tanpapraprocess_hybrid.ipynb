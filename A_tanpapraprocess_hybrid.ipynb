{
 "cells": [
  {
   "cell_type": "code",
   "execution_count": 1,
   "metadata": {},
   "outputs": [],
   "source": [
    "import numpy as np\n",
    "import pandas as pd\n",
    "import matplotlib.pyplot as plt\n",
    "import seaborn as sns\n",
    "import warnings\n",
    "import os\n",
    "import yellowbrick\n",
    "import shap\n",
    "import scipy.cluster.hierarchy as shc\n",
    "import matplotlib.patches as patches\n",
    "from sklearn.ensemble import RandomForestClassifier, StackingClassifier\n",
    "from matplotlib.patches import Rectangle\n",
    "from pywaffle import Waffle\n",
    "from math import isnan\n",
    "from random import sample\n",
    "from numpy.random import uniform\n",
    "from sklearn.neighbors import NearestNeighbors, KNeighborsClassifier\n",
    "from sklearn.linear_model import LogisticRegression\n",
    "from sklearn.model_selection import train_test_split, RandomizedSearchCV, GridSearchCV\n",
    "from sklearn.preprocessing import StandardScaler, MinMaxScaler\n",
    "from sklearn.metrics import classification_report, confusion_matrix, accuracy_score, balanced_accuracy_score, f1_score, cohen_kappa_score, classification_report\n",
    "from scipy import stats\n",
    "from imblearn.over_sampling import SMOTE\n",
    "from sklearn.model_selection import KFold\n",
    "from sklearn.preprocessing import LabelEncoder\n",
    "from sklearn.model_selection import cross_validate\n",
    "from sklearn.metrics import make_scorer, cohen_kappa_score, recall_score\n",
    "from sklearn.preprocessing import MinMaxScaler\n",
    "from sklearn.feature_selection import SelectKBest\n",
    "from sklearn.feature_selection import RFE\n",
    "from sklearn.feature_selection import mutual_info_classif\n",
    "from xgboost import XGBClassifier\n",
    "from pyswarms.single import GlobalBestPSO"
   ]
  },
  {
   "cell_type": "code",
   "execution_count": 2,
   "metadata": {},
   "outputs": [
    {
     "data": {
      "text/html": [
       "<div>\n",
       "<style scoped>\n",
       "    .dataframe tbody tr th:only-of-type {\n",
       "        vertical-align: middle;\n",
       "    }\n",
       "\n",
       "    .dataframe tbody tr th {\n",
       "        vertical-align: top;\n",
       "    }\n",
       "\n",
       "    .dataframe thead th {\n",
       "        text-align: right;\n",
       "    }\n",
       "</style>\n",
       "<table border=\"1\" class=\"dataframe\">\n",
       "  <thead>\n",
       "    <tr style=\"text-align: right;\">\n",
       "      <th></th>\n",
       "      <th>R105</th>\n",
       "      <th>KALORI_KAP</th>\n",
       "      <th>PROTE_KAP</th>\n",
       "      <th>LEMAK_KAP</th>\n",
       "      <th>KARBO_KAP</th>\n",
       "      <th>FOOD_LABEL</th>\n",
       "      <th>Pengeluaran_Jenis_A</th>\n",
       "      <th>Pengeluaran_Jenis_B</th>\n",
       "      <th>Pengeluaran_Jenis_C</th>\n",
       "      <th>Pengeluaran_Jenis_D</th>\n",
       "      <th>...</th>\n",
       "      <th>Pengeluaran_Jenis_M</th>\n",
       "      <th>Pengeluaran_Jenis_N</th>\n",
       "      <th>R2208A2</th>\n",
       "      <th>R2208A3</th>\n",
       "      <th>R2208A4</th>\n",
       "      <th>R2208A5</th>\n",
       "      <th>nilai_bantuan(rp)</th>\n",
       "      <th>rataan_beras(rp)</th>\n",
       "      <th>rataan_telur(rp)</th>\n",
       "      <th>rataan_lainnya(rp)</th>\n",
       "    </tr>\n",
       "    <tr>\n",
       "      <th>URUT</th>\n",
       "      <th></th>\n",
       "      <th></th>\n",
       "      <th></th>\n",
       "      <th></th>\n",
       "      <th></th>\n",
       "      <th></th>\n",
       "      <th></th>\n",
       "      <th></th>\n",
       "      <th></th>\n",
       "      <th></th>\n",
       "      <th></th>\n",
       "      <th></th>\n",
       "      <th></th>\n",
       "      <th></th>\n",
       "      <th></th>\n",
       "      <th></th>\n",
       "      <th></th>\n",
       "      <th></th>\n",
       "      <th></th>\n",
       "      <th></th>\n",
       "      <th></th>\n",
       "    </tr>\n",
       "  </thead>\n",
       "  <tbody>\n",
       "    <tr>\n",
       "      <th>500001</th>\n",
       "      <td>2</td>\n",
       "      <td>2365.173362</td>\n",
       "      <td>67.130240</td>\n",
       "      <td>43.222388</td>\n",
       "      <td>352.985743</td>\n",
       "      <td>0</td>\n",
       "      <td>1</td>\n",
       "      <td>1</td>\n",
       "      <td>1</td>\n",
       "      <td>1</td>\n",
       "      <td>...</td>\n",
       "      <td>1</td>\n",
       "      <td>0</td>\n",
       "      <td>Tidak</td>\n",
       "      <td>Tidak</td>\n",
       "      <td>Ya</td>\n",
       "      <td>Tidak</td>\n",
       "      <td>150000.0</td>\n",
       "      <td>50000.0</td>\n",
       "      <td>10000.0</td>\n",
       "      <td>17500.0</td>\n",
       "    </tr>\n",
       "    <tr>\n",
       "      <th>500002</th>\n",
       "      <td>1</td>\n",
       "      <td>2611.639071</td>\n",
       "      <td>69.091893</td>\n",
       "      <td>30.118243</td>\n",
       "      <td>471.997686</td>\n",
       "      <td>0</td>\n",
       "      <td>1</td>\n",
       "      <td>1</td>\n",
       "      <td>1</td>\n",
       "      <td>0</td>\n",
       "      <td>...</td>\n",
       "      <td>1</td>\n",
       "      <td>1</td>\n",
       "      <td>Tidak</td>\n",
       "      <td>Tidak</td>\n",
       "      <td>Tidak</td>\n",
       "      <td>Ya</td>\n",
       "      <td>150000.0</td>\n",
       "      <td>27500.0</td>\n",
       "      <td>6500.0</td>\n",
       "      <td>8000.0</td>\n",
       "    </tr>\n",
       "    <tr>\n",
       "      <th>500003</th>\n",
       "      <td>2</td>\n",
       "      <td>2526.510476</td>\n",
       "      <td>68.742619</td>\n",
       "      <td>58.517619</td>\n",
       "      <td>360.456190</td>\n",
       "      <td>0</td>\n",
       "      <td>1</td>\n",
       "      <td>0</td>\n",
       "      <td>1</td>\n",
       "      <td>1</td>\n",
       "      <td>...</td>\n",
       "      <td>1</td>\n",
       "      <td>1</td>\n",
       "      <td>Tidak</td>\n",
       "      <td>Tidak</td>\n",
       "      <td>Ya</td>\n",
       "      <td>Tidak</td>\n",
       "      <td>100000.0</td>\n",
       "      <td>60000.0</td>\n",
       "      <td>15000.0</td>\n",
       "      <td>25000.0</td>\n",
       "    </tr>\n",
       "    <tr>\n",
       "      <th>500004</th>\n",
       "      <td>1</td>\n",
       "      <td>3655.854810</td>\n",
       "      <td>141.502615</td>\n",
       "      <td>119.460426</td>\n",
       "      <td>454.939531</td>\n",
       "      <td>0</td>\n",
       "      <td>1</td>\n",
       "      <td>1</td>\n",
       "      <td>1</td>\n",
       "      <td>1</td>\n",
       "      <td>...</td>\n",
       "      <td>1</td>\n",
       "      <td>1</td>\n",
       "      <td>Tidak</td>\n",
       "      <td>Tidak</td>\n",
       "      <td>Tidak</td>\n",
       "      <td>Tidak</td>\n",
       "      <td>0.0</td>\n",
       "      <td>0.0</td>\n",
       "      <td>0.0</td>\n",
       "      <td>0.0</td>\n",
       "    </tr>\n",
       "    <tr>\n",
       "      <th>500005</th>\n",
       "      <td>1</td>\n",
       "      <td>2330.987934</td>\n",
       "      <td>78.533354</td>\n",
       "      <td>53.141607</td>\n",
       "      <td>254.846110</td>\n",
       "      <td>0</td>\n",
       "      <td>1</td>\n",
       "      <td>0</td>\n",
       "      <td>1</td>\n",
       "      <td>1</td>\n",
       "      <td>...</td>\n",
       "      <td>1</td>\n",
       "      <td>1</td>\n",
       "      <td>Tidak</td>\n",
       "      <td>Tidak</td>\n",
       "      <td>Tidak</td>\n",
       "      <td>Tidak</td>\n",
       "      <td>0.0</td>\n",
       "      <td>0.0</td>\n",
       "      <td>0.0</td>\n",
       "      <td>0.0</td>\n",
       "    </tr>\n",
       "    <tr>\n",
       "      <th>...</th>\n",
       "      <td>...</td>\n",
       "      <td>...</td>\n",
       "      <td>...</td>\n",
       "      <td>...</td>\n",
       "      <td>...</td>\n",
       "      <td>...</td>\n",
       "      <td>...</td>\n",
       "      <td>...</td>\n",
       "      <td>...</td>\n",
       "      <td>...</td>\n",
       "      <td>...</td>\n",
       "      <td>...</td>\n",
       "      <td>...</td>\n",
       "      <td>...</td>\n",
       "      <td>...</td>\n",
       "      <td>...</td>\n",
       "      <td>...</td>\n",
       "      <td>...</td>\n",
       "      <td>...</td>\n",
       "      <td>...</td>\n",
       "      <td>...</td>\n",
       "    </tr>\n",
       "    <tr>\n",
       "      <th>525886</th>\n",
       "      <td>1</td>\n",
       "      <td>2227.460536</td>\n",
       "      <td>81.321857</td>\n",
       "      <td>45.307661</td>\n",
       "      <td>306.247218</td>\n",
       "      <td>0</td>\n",
       "      <td>1</td>\n",
       "      <td>1</td>\n",
       "      <td>1</td>\n",
       "      <td>1</td>\n",
       "      <td>...</td>\n",
       "      <td>1</td>\n",
       "      <td>1</td>\n",
       "      <td>Tidak</td>\n",
       "      <td>Tidak</td>\n",
       "      <td>Tidak</td>\n",
       "      <td>Tidak</td>\n",
       "      <td>0.0</td>\n",
       "      <td>0.0</td>\n",
       "      <td>0.0</td>\n",
       "      <td>0.0</td>\n",
       "    </tr>\n",
       "    <tr>\n",
       "      <th>525887</th>\n",
       "      <td>1</td>\n",
       "      <td>1711.114357</td>\n",
       "      <td>68.675743</td>\n",
       "      <td>46.467657</td>\n",
       "      <td>212.155300</td>\n",
       "      <td>0</td>\n",
       "      <td>1</td>\n",
       "      <td>0</td>\n",
       "      <td>1</td>\n",
       "      <td>1</td>\n",
       "      <td>...</td>\n",
       "      <td>1</td>\n",
       "      <td>0</td>\n",
       "      <td>Tidak</td>\n",
       "      <td>Tidak</td>\n",
       "      <td>Tidak</td>\n",
       "      <td>Tidak</td>\n",
       "      <td>0.0</td>\n",
       "      <td>0.0</td>\n",
       "      <td>0.0</td>\n",
       "      <td>0.0</td>\n",
       "    </tr>\n",
       "    <tr>\n",
       "      <th>525888</th>\n",
       "      <td>1</td>\n",
       "      <td>1621.781673</td>\n",
       "      <td>48.896660</td>\n",
       "      <td>45.535567</td>\n",
       "      <td>215.970774</td>\n",
       "      <td>0</td>\n",
       "      <td>1</td>\n",
       "      <td>0</td>\n",
       "      <td>0</td>\n",
       "      <td>1</td>\n",
       "      <td>...</td>\n",
       "      <td>1</td>\n",
       "      <td>1</td>\n",
       "      <td>Tidak</td>\n",
       "      <td>Tidak</td>\n",
       "      <td>Tidak</td>\n",
       "      <td>Tidak</td>\n",
       "      <td>0.0</td>\n",
       "      <td>0.0</td>\n",
       "      <td>0.0</td>\n",
       "      <td>0.0</td>\n",
       "    </tr>\n",
       "    <tr>\n",
       "      <th>525889</th>\n",
       "      <td>1</td>\n",
       "      <td>1451.510459</td>\n",
       "      <td>40.395735</td>\n",
       "      <td>41.464533</td>\n",
       "      <td>209.007286</td>\n",
       "      <td>0</td>\n",
       "      <td>1</td>\n",
       "      <td>0</td>\n",
       "      <td>0</td>\n",
       "      <td>1</td>\n",
       "      <td>...</td>\n",
       "      <td>1</td>\n",
       "      <td>0</td>\n",
       "      <td>Tidak</td>\n",
       "      <td>Tidak</td>\n",
       "      <td>Tidak</td>\n",
       "      <td>Tidak</td>\n",
       "      <td>0.0</td>\n",
       "      <td>0.0</td>\n",
       "      <td>0.0</td>\n",
       "      <td>0.0</td>\n",
       "    </tr>\n",
       "    <tr>\n",
       "      <th>525890</th>\n",
       "      <td>1</td>\n",
       "      <td>2477.567857</td>\n",
       "      <td>77.036786</td>\n",
       "      <td>48.348429</td>\n",
       "      <td>323.488000</td>\n",
       "      <td>0</td>\n",
       "      <td>1</td>\n",
       "      <td>0</td>\n",
       "      <td>1</td>\n",
       "      <td>1</td>\n",
       "      <td>...</td>\n",
       "      <td>1</td>\n",
       "      <td>0</td>\n",
       "      <td>Tidak</td>\n",
       "      <td>Tidak</td>\n",
       "      <td>Tidak</td>\n",
       "      <td>Tidak</td>\n",
       "      <td>0.0</td>\n",
       "      <td>0.0</td>\n",
       "      <td>0.0</td>\n",
       "      <td>0.0</td>\n",
       "    </tr>\n",
       "  </tbody>\n",
       "</table>\n",
       "<p>25890 rows × 28 columns</p>\n",
       "</div>"
      ],
      "text/plain": [
       "        R105   KALORI_KAP   PROTE_KAP   LEMAK_KAP   KARBO_KAP  FOOD_LABEL  \\\n",
       "URUT                                                                        \n",
       "500001     2  2365.173362   67.130240   43.222388  352.985743           0   \n",
       "500002     1  2611.639071   69.091893   30.118243  471.997686           0   \n",
       "500003     2  2526.510476   68.742619   58.517619  360.456190           0   \n",
       "500004     1  3655.854810  141.502615  119.460426  454.939531           0   \n",
       "500005     1  2330.987934   78.533354   53.141607  254.846110           0   \n",
       "...      ...          ...         ...         ...         ...         ...   \n",
       "525886     1  2227.460536   81.321857   45.307661  306.247218           0   \n",
       "525887     1  1711.114357   68.675743   46.467657  212.155300           0   \n",
       "525888     1  1621.781673   48.896660   45.535567  215.970774           0   \n",
       "525889     1  1451.510459   40.395735   41.464533  209.007286           0   \n",
       "525890     1  2477.567857   77.036786   48.348429  323.488000           0   \n",
       "\n",
       "        Pengeluaran_Jenis_A  Pengeluaran_Jenis_B  Pengeluaran_Jenis_C  \\\n",
       "URUT                                                                    \n",
       "500001                    1                    1                    1   \n",
       "500002                    1                    1                    1   \n",
       "500003                    1                    0                    1   \n",
       "500004                    1                    1                    1   \n",
       "500005                    1                    0                    1   \n",
       "...                     ...                  ...                  ...   \n",
       "525886                    1                    1                    1   \n",
       "525887                    1                    0                    1   \n",
       "525888                    1                    0                    0   \n",
       "525889                    1                    0                    0   \n",
       "525890                    1                    0                    1   \n",
       "\n",
       "        Pengeluaran_Jenis_D  ...  Pengeluaran_Jenis_M  Pengeluaran_Jenis_N  \\\n",
       "URUT                         ...                                             \n",
       "500001                    1  ...                    1                    0   \n",
       "500002                    0  ...                    1                    1   \n",
       "500003                    1  ...                    1                    1   \n",
       "500004                    1  ...                    1                    1   \n",
       "500005                    1  ...                    1                    1   \n",
       "...                     ...  ...                  ...                  ...   \n",
       "525886                    1  ...                    1                    1   \n",
       "525887                    1  ...                    1                    0   \n",
       "525888                    1  ...                    1                    1   \n",
       "525889                    1  ...                    1                    0   \n",
       "525890                    1  ...                    1                    0   \n",
       "\n",
       "        R2208A2  R2208A3  R2208A4  R2208A5  nilai_bantuan(rp)  \\\n",
       "URUT                                                            \n",
       "500001    Tidak    Tidak       Ya    Tidak           150000.0   \n",
       "500002    Tidak    Tidak    Tidak       Ya           150000.0   \n",
       "500003    Tidak    Tidak       Ya    Tidak           100000.0   \n",
       "500004    Tidak    Tidak    Tidak    Tidak                0.0   \n",
       "500005    Tidak    Tidak    Tidak    Tidak                0.0   \n",
       "...         ...      ...      ...      ...                ...   \n",
       "525886    Tidak    Tidak    Tidak    Tidak                0.0   \n",
       "525887    Tidak    Tidak    Tidak    Tidak                0.0   \n",
       "525888    Tidak    Tidak    Tidak    Tidak                0.0   \n",
       "525889    Tidak    Tidak    Tidak    Tidak                0.0   \n",
       "525890    Tidak    Tidak    Tidak    Tidak                0.0   \n",
       "\n",
       "        rataan_beras(rp)  rataan_telur(rp)  rataan_lainnya(rp)  \n",
       "URUT                                                            \n",
       "500001           50000.0           10000.0             17500.0  \n",
       "500002           27500.0            6500.0              8000.0  \n",
       "500003           60000.0           15000.0             25000.0  \n",
       "500004               0.0               0.0                 0.0  \n",
       "500005               0.0               0.0                 0.0  \n",
       "...                  ...               ...                 ...  \n",
       "525886               0.0               0.0                 0.0  \n",
       "525887               0.0               0.0                 0.0  \n",
       "525888               0.0               0.0                 0.0  \n",
       "525889               0.0               0.0                 0.0  \n",
       "525890               0.0               0.0                 0.0  \n",
       "\n",
       "[25890 rows x 28 columns]"
      ]
     },
     "execution_count": 2,
     "metadata": {},
     "output_type": "execute_result"
    }
   ],
   "source": [
    "file_path = r\"D:\\Kuliah IPB\\02 Kuliah\\03 Semester 3\\Pemodelan Klasifikasi\\UAS\\df_model.csv\"\n",
    "df_model = pd.read_csv(file_path, index_col=0)\n",
    "df_model"
   ]
  },
  {
   "cell_type": "code",
   "execution_count": 3,
   "metadata": {},
   "outputs": [
    {
     "data": {
      "text/html": [
       "<div>\n",
       "<style scoped>\n",
       "    .dataframe tbody tr th:only-of-type {\n",
       "        vertical-align: middle;\n",
       "    }\n",
       "\n",
       "    .dataframe tbody tr th {\n",
       "        vertical-align: top;\n",
       "    }\n",
       "\n",
       "    .dataframe thead th {\n",
       "        text-align: right;\n",
       "    }\n",
       "</style>\n",
       "<table border=\"1\" class=\"dataframe\">\n",
       "  <thead>\n",
       "    <tr style=\"text-align: right;\">\n",
       "      <th></th>\n",
       "      <th>R2208A2</th>\n",
       "      <th>R2208A3</th>\n",
       "      <th>R2208A4</th>\n",
       "      <th>R2208A5</th>\n",
       "    </tr>\n",
       "    <tr>\n",
       "      <th>URUT</th>\n",
       "      <th></th>\n",
       "      <th></th>\n",
       "      <th></th>\n",
       "      <th></th>\n",
       "    </tr>\n",
       "  </thead>\n",
       "  <tbody>\n",
       "    <tr>\n",
       "      <th>500001</th>\n",
       "      <td>0</td>\n",
       "      <td>0</td>\n",
       "      <td>1</td>\n",
       "      <td>0</td>\n",
       "    </tr>\n",
       "    <tr>\n",
       "      <th>500002</th>\n",
       "      <td>0</td>\n",
       "      <td>0</td>\n",
       "      <td>0</td>\n",
       "      <td>1</td>\n",
       "    </tr>\n",
       "    <tr>\n",
       "      <th>500003</th>\n",
       "      <td>0</td>\n",
       "      <td>0</td>\n",
       "      <td>1</td>\n",
       "      <td>0</td>\n",
       "    </tr>\n",
       "    <tr>\n",
       "      <th>500004</th>\n",
       "      <td>0</td>\n",
       "      <td>0</td>\n",
       "      <td>0</td>\n",
       "      <td>0</td>\n",
       "    </tr>\n",
       "    <tr>\n",
       "      <th>500005</th>\n",
       "      <td>0</td>\n",
       "      <td>0</td>\n",
       "      <td>0</td>\n",
       "      <td>0</td>\n",
       "    </tr>\n",
       "  </tbody>\n",
       "</table>\n",
       "</div>"
      ],
      "text/plain": [
       "        R2208A2  R2208A3  R2208A4  R2208A5\n",
       "URUT                                      \n",
       "500001        0        0        1        0\n",
       "500002        0        0        0        1\n",
       "500003        0        0        1        0\n",
       "500004        0        0        0        0\n",
       "500005        0        0        0        0"
      ]
     },
     "execution_count": 3,
     "metadata": {},
     "output_type": "execute_result"
    }
   ],
   "source": [
    "categorical_columns = ['R2208A2', 'R2208A3', 'R2208A4', 'R2208A5']\n",
    "for col in categorical_columns:\n",
    "    df_model[col] = df_model[col].map({'Tidak': 0, 'Ya': 1})\n",
    "df_model[categorical_columns].head()"
   ]
  },
  {
   "cell_type": "code",
   "execution_count": 4,
   "metadata": {},
   "outputs": [
    {
     "name": "stdout",
     "output_type": "stream",
     "text": [
      "<class 'pandas.core.frame.DataFrame'>\n",
      "Index: 25890 entries, 500001 to 525890\n",
      "Data columns (total 28 columns):\n",
      " #   Column               Non-Null Count  Dtype  \n",
      "---  ------               --------------  -----  \n",
      " 0   R105                 25890 non-null  int64  \n",
      " 1   KALORI_KAP           25890 non-null  float64\n",
      " 2   PROTE_KAP            25890 non-null  float64\n",
      " 3   LEMAK_KAP            25890 non-null  float64\n",
      " 4   KARBO_KAP            25890 non-null  float64\n",
      " 5   FOOD_LABEL           25890 non-null  int64  \n",
      " 6   Pengeluaran_Jenis_A  25890 non-null  int64  \n",
      " 7   Pengeluaran_Jenis_B  25890 non-null  int64  \n",
      " 8   Pengeluaran_Jenis_C  25890 non-null  int64  \n",
      " 9   Pengeluaran_Jenis_D  25890 non-null  int64  \n",
      " 10  Pengeluaran_Jenis_E  25890 non-null  int64  \n",
      " 11  Pengeluaran_Jenis_F  25890 non-null  int64  \n",
      " 12  Pengeluaran_Jenis_G  25890 non-null  int64  \n",
      " 13  Pengeluaran_Jenis_H  25890 non-null  int64  \n",
      " 14  Pengeluaran_Jenis_I  25890 non-null  int64  \n",
      " 15  Pengeluaran_Jenis_J  25890 non-null  int64  \n",
      " 16  Pengeluaran_Jenis_K  25890 non-null  int64  \n",
      " 17  Pengeluaran_Jenis_L  25890 non-null  int64  \n",
      " 18  Pengeluaran_Jenis_M  25890 non-null  int64  \n",
      " 19  Pengeluaran_Jenis_N  25890 non-null  int64  \n",
      " 20  R2208A2              25890 non-null  int64  \n",
      " 21  R2208A3              25890 non-null  int64  \n",
      " 22  R2208A4              25890 non-null  int64  \n",
      " 23  R2208A5              25890 non-null  int64  \n",
      " 24  nilai_bantuan(rp)    25890 non-null  float64\n",
      " 25  rataan_beras(rp)     25890 non-null  float64\n",
      " 26  rataan_telur(rp)     25890 non-null  float64\n",
      " 27  rataan_lainnya(rp)   25890 non-null  float64\n",
      "dtypes: float64(8), int64(20)\n",
      "memory usage: 5.7 MB\n"
     ]
    }
   ],
   "source": [
    "df_model.info()"
   ]
  },
  {
   "cell_type": "markdown",
   "metadata": {},
   "source": [
    "# Split Data"
   ]
  },
  {
   "cell_type": "code",
   "execution_count": 5,
   "metadata": {},
   "outputs": [],
   "source": [
    "X = df_model.drop(['FOOD_LABEL', 'PROTE_KAP', 'LEMAK_KAP', 'KARBO_KAP'], axis=1)\n",
    "y = df_model['FOOD_LABEL']\n",
    "\n",
    "# # SMOTE terbaik dengan ratio=1\n",
    "# sm = SMOTE(random_state=123, sampling_strategy=0.75)\n",
    "# X, y = sm.fit_resample(X, y)\n",
    "\n",
    "X_ori = X.copy()\n",
    "y_ori = y.copy()\n",
    "\n",
    "X_train, X_test, y_train, y_test = train_test_split(X,\n",
    "                                                   y,\n",
    "                                                   test_size=0.3,\n",
    "                                                   shuffle=True,\n",
    "                                                   stratify=y,\n",
    "                                                   random_state=86)"
   ]
  },
  {
   "cell_type": "code",
   "execution_count": 6,
   "metadata": {},
   "outputs": [
    {
     "name": "stdout",
     "output_type": "stream",
     "text": [
      "(18123, 24)\n",
      "(7767, 24)\n"
     ]
    }
   ],
   "source": [
    "print(X_train.shape)\n",
    "print(X_test.shape)"
   ]
  },
  {
   "cell_type": "code",
   "execution_count": 7,
   "metadata": {},
   "outputs": [],
   "source": [
    "def eval_model_holdout(model, xtrain, ytrain, xtest, ytest, plot=False):\n",
    "    model.fit(xtrain, ytrain)\n",
    "    y_pred_train = model.predict(xtrain)\n",
    "    y_pred_test = model.predict(xtest)\n",
    "    \n",
    "    cm_test = confusion_matrix(ytest, y_pred_test)\n",
    "    tn, fp, fn, tp = cm_test.ravel()\n",
    "    sensitivity = tp / (tp + fn) \n",
    "    specificity = tn / (tn + fp) \n",
    "\n",
    "    print(\"Holdout Evaluation (Train):\")\n",
    "    print(\"Balanced Accuracy:\", round(balanced_accuracy_score(ytrain, y_pred_train), 2))\n",
    "    print(\"F1 Score:\", round(f1_score(ytrain, y_pred_train), 2))\n",
    "    print(\"Kappa:\", round(cohen_kappa_score(ytrain, y_pred_train), 2))\n",
    "\n",
    "    print(\"\\nHoldout Evaluation (Test):\")\n",
    "    print(\"Balanced Accuracy:\", round(balanced_accuracy_score(ytest, y_pred_test), 2))\n",
    "    print(\"F1 Score:\", round(f1_score(ytest, y_pred_test), 2))\n",
    "    print(\"Kappa:\", round(cohen_kappa_score(ytest, y_pred_test), 2))\n",
    "    print(\"Sensitivity (Recall):\", round(sensitivity, 2))\n",
    "    print(\"Specificity:\", round(specificity, 2))\n",
    "\n",
    "    if plot:\n",
    "        plt.figure(figsize=(8, 6))\n",
    "        sns.heatmap(cm_test, annot=True, fmt='d', cmap='Blues',\n",
    "                    xticklabels=['Tidak Miskin', 'Miskin'], yticklabels=['Tidak Miskin', 'Miskin'])\n",
    "        plt.title('Confusion Matrix Testing Data')\n",
    "        plt.xlabel('Predicted Label')\n",
    "        plt.ylabel('True Label')\n",
    "        plt.show()"
   ]
  },
  {
   "cell_type": "code",
   "execution_count": 8,
   "metadata": {},
   "outputs": [],
   "source": [
    "cv = KFold(n_splits=10, shuffle=True, random_state=86)\n",
    "\n",
    "def specificity_score(y_true, y_pred):\n",
    "    cm = confusion_matrix(y_true, y_pred)\n",
    "    tn, fp, fn, tp = cm.ravel()\n",
    "    return tn / (tn + fp)\n",
    "\n",
    "specificity_scorer = make_scorer(specificity_score)\n",
    "sensitivity_scorer = make_scorer(recall_score)\n",
    "\n",
    "def eval_model_CV(model, X, y):    \n",
    "    cv_results = cross_validate(\n",
    "        model, X, y, cv=cv, \n",
    "        scoring={\n",
    "            'balanced_accuracy': 'balanced_accuracy',\n",
    "            'f1': 'f1',\n",
    "            'kappa': make_scorer(cohen_kappa_score),\n",
    "            'sensitivity': sensitivity_scorer,\n",
    "            'specificity': specificity_scorer\n",
    "        },\n",
    "        return_train_score=False\n",
    "    )\n",
    "\n",
    "    balanced_acc_scores = cv_results['test_balanced_accuracy']\n",
    "    f1_scores = cv_results['test_f1']\n",
    "    kappa_scores = cv_results['test_kappa']\n",
    "    sensitivity_scores = cv_results['test_sensitivity']\n",
    "    specificity_scores = cv_results['test_specificity']\n",
    "    \n",
    "    mean_bal_acc = round(np.mean(balanced_acc_scores), 2)\n",
    "    mean_f1 = round(np.mean(f1_scores), 2)\n",
    "    mean_kappa = round(np.mean(kappa_scores), 2)\n",
    "    mean_sensitivity = round(np.mean(sensitivity_scores), 2)\n",
    "    mean_specificity = round(np.mean(specificity_scores), 2)\n",
    "    \n",
    "    print('Mean Bal Acc (Test)  :', mean_bal_acc)\n",
    "    print('Mean F1 Score (Test) :', mean_f1)\n",
    "    print('Mean Kappa (Test)    :', mean_kappa)\n",
    "    print('Mean Sensitivity (Test):', mean_sensitivity)\n",
    "    print('Mean Specificity (Test):', mean_specificity)"
   ]
  },
  {
   "cell_type": "code",
   "execution_count": 9,
   "metadata": {},
   "outputs": [],
   "source": [
    "def mergeXy_for_CV(X1, X2, y_train, y_test):\n",
    "    merge_X = pd.concat([X1, X2], ignore_index=True)\n",
    "    merge_y = y_train.tolist() + y_test.tolist()\n",
    "    return merge_X, merge_y"
   ]
  },
  {
   "cell_type": "markdown",
   "metadata": {},
   "source": [
    "# Baseline Model"
   ]
  },
  {
   "cell_type": "code",
   "execution_count": 10,
   "metadata": {},
   "outputs": [],
   "source": [
    "rf_model = RandomForestClassifier(n_estimators=50, random_state=86, max_depth=10, min_samples_split=2, min_samples_leaf=2)\n",
    "xgb_model = XGBClassifier(random_state=86, eval_metric='logloss', learning_rate=0.01, max_depth=5, n_estimators=50)"
   ]
  },
  {
   "cell_type": "code",
   "execution_count": 11,
   "metadata": {},
   "outputs": [
    {
     "name": "stdout",
     "output_type": "stream",
     "text": [
      "Holdout Evaluation (Train):\n",
      "Balanced Accuracy: 0.7\n",
      "F1 Score: 0.54\n",
      "Kappa: 0.5\n",
      "\n",
      "Holdout Evaluation (Test):\n",
      "Balanced Accuracy: 0.66\n",
      "F1 Score: 0.44\n",
      "Kappa: 0.4\n",
      "Sensitivity (Recall): 0.34\n",
      "Specificity: 0.98\n"
     ]
    },
    {
     "data": {
      "image/png": "[encoded data removed]",
      "text/plain": [
       "<Figure size 800x600 with 2 Axes>"
      ]
     },
     "metadata": {},
     "output_type": "display_data"
    }
   ],
   "source": [
    "# Define Stacking Ensemble\n",
    "stacking_ensemble = StackingClassifier(\n",
    "    estimators=[('rf', rf_model), ('xgb', xgb_model)],\n",
    "    final_estimator=LogisticRegression(random_state=86)\n",
    ")\n",
    "eval_model_holdout(stacking_ensemble, X_train, y_train, X_test, y_test, plot=True)"
   ]
  },
  {
   "cell_type": "code",
   "execution_count": 12,
   "metadata": {},
   "outputs": [
    {
     "name": "stdout",
     "output_type": "stream",
     "text": [
      "Mean Bal Acc (Test)  : 0.67\n",
      "Mean F1 Score (Test) : 0.46\n",
      "Mean Kappa (Test)    : 0.41\n",
      "Mean Sensitivity (Test): 0.35\n",
      "Mean Specificity (Test): 0.98\n"
     ]
    }
   ],
   "source": [
    "eval_model_CV(stacking_ensemble, X, y)"
   ]
  },
  {
   "cell_type": "markdown",
   "metadata": {},
   "source": [
    "# Feature Selection"
   ]
  },
  {
   "cell_type": "markdown",
   "metadata": {},
   "source": [
    "## Variance Threshold"
   ]
  },
  {
   "cell_type": "code",
   "execution_count": 15,
   "metadata": {},
   "outputs": [],
   "source": [
    "X_train_v1, X_test_v1, y_tain_v1, y_test_v1 = X_train.copy(), X_test.copy(), y_train.copy(), y_test.copy()"
   ]
  },
  {
   "cell_type": "markdown",
   "metadata": {},
   "source": [
    "## K-Best Feature"
   ]
  },
  {
   "cell_type": "code",
   "execution_count": 16,
   "metadata": {},
   "outputs": [],
   "source": [
    "X_train_v2, X_test_v2, y_train_v2, y_test_v2 = X_train.copy(), X_test.copy(), y_train.copy(), y_test.copy()"
   ]
  },
  {
   "cell_type": "code",
   "execution_count": 17,
   "metadata": {},
   "outputs": [],
   "source": [
    "# Initialize lists for storing results\n",
    "bal_acc_list = []\n",
    "f1_score_list = []\n",
    "kappa_list = []\n",
    "k_list = []\n",
    "\n",
    "# Test different numbers of selected features (1 to 20) using SelectKBest with the ensemble\n",
    "for k in range(1, 21):\n",
    "    selector = SelectKBest(mutual_info_classif, k=k)\n",
    "    selector.fit(X_train, y_train)\n",
    "    \n",
    "    sel_X_train = selector.transform(X_train)\n",
    "    sel_X_test = selector.transform(X_test)\n",
    "    \n",
    "    # Fit the ensemble model on selected features\n",
    "    stacking_ensemble.fit(sel_X_train, y_train)\n",
    "    kbest_preds = stacking_ensemble.predict(sel_X_test)\n",
    "    \n",
    "    bal_acc_kbest = round(balanced_accuracy_score(y_test, kbest_preds), 2)\n",
    "    f1_score_kbest = round(f1_score(y_test, kbest_preds), 2)\n",
    "    kappa_kbest = round(cohen_kappa_score(y_test, kbest_preds), 2)\n",
    "    \n",
    "    bal_acc_list.append(bal_acc_kbest)\n",
    "    f1_score_list.append(f1_score_kbest)\n",
    "    kappa_list.append(kappa_kbest)\n",
    "    k_list.append(k)"
   ]
  },
  {
   "cell_type": "code",
   "execution_count": 18,
   "metadata": {},
   "outputs": [
    {
     "data": {
      "image/png": "[encoded data removed]",
      "text/plain": [
       "<Figure size 1200x600 with 1 Axes>"
      ]
     },
     "metadata": {},
     "output_type": "display_data"
    }
   ],
   "source": [
    "# Plotting the results\n",
    "plt.figure(figsize=(12, 6))\n",
    "\n",
    "# Plot each metric\n",
    "plt.plot(k_list, bal_acc_list, marker='o', label='Balanced Accuracy', color='blue')\n",
    "plt.plot(k_list, f1_score_list, marker='o', label='F1 Score', color='orange')\n",
    "plt.plot(k_list, kappa_list, marker='o', label='Kappa Score', color='green')\n",
    "\n",
    "# Mark maximum values\n",
    "max_bal_acc = np.max(bal_acc_list)\n",
    "max_f1 = np.max(f1_score_list)\n",
    "max_kappa = np.max(kappa_list)\n",
    "\n",
    "# Display max values\n",
    "plt.scatter(np.argmax(bal_acc_list) + 1, max_bal_acc, color='blue', s=100, edgecolor='black', label='Max Balanced Accuracy', marker='s')\n",
    "plt.scatter(np.argmax(f1_score_list) + 1, max_f1, color='orange', s=100, edgecolor='black', label='Max F1 Score', marker='s')\n",
    "plt.scatter(np.argmax(kappa_list) + 1, max_kappa, color='green', s=100, edgecolor='black', label='Max Kappa Score', marker='s')\n",
    "\n",
    "# Add labels and title\n",
    "plt.xlabel('Number of features selected using mutual information')\n",
    "plt.ylabel('Score')\n",
    "plt.legend()\n",
    "plt.grid(True)\n",
    "plt.show()"
   ]
  },
  {
   "cell_type": "code",
   "execution_count": 19,
   "metadata": {},
   "outputs": [
    {
     "name": "stdout",
     "output_type": "stream",
     "text": [
      "Max Bal Acc: 0.65\n",
      "Max F1 score: 0.41\n",
      "Max kappa: 0.37\n"
     ]
    }
   ],
   "source": [
    "# Print maximum scores\n",
    "print('Max Bal Acc:', max_bal_acc)\n",
    "print('Max F1 score:', max_f1)\n",
    "print('Max kappa:', max_kappa)"
   ]
  },
  {
   "cell_type": "code",
   "execution_count": 20,
   "metadata": {},
   "outputs": [
    {
     "data": {
      "text/plain": [
       "18"
      ]
     },
     "execution_count": 20,
     "metadata": {},
     "output_type": "execute_result"
    }
   ],
   "source": [
    "# Identify the best number of features based on balanced accuracy\n",
    "best_k_using_bal_acc = np.argmax(bal_acc_list) + 1\n",
    "best_k_using_bal_acc"
   ]
  },
  {
   "cell_type": "code",
   "execution_count": 21,
   "metadata": {},
   "outputs": [
    {
     "data": {
      "text/plain": [
       "Index(['KALORI_KAP', 'Pengeluaran_Jenis_A', 'Pengeluaran_Jenis_B',\n",
       "       'Pengeluaran_Jenis_C', 'Pengeluaran_Jenis_D', 'Pengeluaran_Jenis_E',\n",
       "       'Pengeluaran_Jenis_F', 'Pengeluaran_Jenis_G', 'Pengeluaran_Jenis_H',\n",
       "       'Pengeluaran_Jenis_J', 'Pengeluaran_Jenis_K', 'Pengeluaran_Jenis_L',\n",
       "       'Pengeluaran_Jenis_M', 'Pengeluaran_Jenis_N', 'R2208A4',\n",
       "       'nilai_bantuan(rp)', 'rataan_telur(rp)', 'rataan_lainnya(rp)'],\n",
       "      dtype='object')"
      ]
     },
     "execution_count": 21,
     "metadata": {},
     "output_type": "execute_result"
    }
   ],
   "source": [
    "# Feature selection using the best k features\n",
    "selector = SelectKBest(mutual_info_classif, k=best_k_using_bal_acc)\n",
    "selector.fit(X_train, y_train)\n",
    "\n",
    "selected_feature_mask = selector.get_support()\n",
    "selected_features = X_train.columns[selected_feature_mask]\n",
    "selected_features"
   ]
  },
  {
   "cell_type": "code",
   "execution_count": 22,
   "metadata": {},
   "outputs": [
    {
     "name": "stdout",
     "output_type": "stream",
     "text": [
      "Holdout Evaluation (Train):\n",
      "Balanced Accuracy: 0.74\n",
      "F1 Score: 0.62\n",
      "Kappa: 0.59\n",
      "\n",
      "Holdout Evaluation (Test):\n",
      "Balanced Accuracy: 0.65\n",
      "F1 Score: 0.42\n",
      "Kappa: 0.37\n",
      "Sensitivity (Recall): 0.32\n",
      "Specificity: 0.97\n"
     ]
    }
   ],
   "source": [
    "# Evaluate model using holdout with selected features\n",
    "eval_model_holdout(stacking_ensemble, X_train[selected_features], y_train, X_test[selected_features], y_test, plot=False)"
   ]
  },
  {
   "cell_type": "code",
   "execution_count": 23,
   "metadata": {},
   "outputs": [
    {
     "name": "stdout",
     "output_type": "stream",
     "text": [
      "Mean Bal Acc (Test)  : 0.65\n",
      "Mean F1 Score (Test) : 0.42\n",
      "Mean Kappa (Test)    : 0.38\n",
      "Mean Sensitivity (Test): 0.32\n",
      "Mean Specificity (Test): 0.98\n"
     ]
    }
   ],
   "source": [
    "eval_model_CV(stacking_ensemble, X_ori[selected_features], y_ori)"
   ]
  },
  {
   "cell_type": "markdown",
   "metadata": {},
   "source": [
    "## RFE"
   ]
  },
  {
   "cell_type": "code",
   "execution_count": 24,
   "metadata": {},
   "outputs": [],
   "source": [
    "X_train_v3, X_test_v3, y_train_v3, y_test_v3 = X_train.copy(), X_test.copy(), y_train.copy(), y_test.copy()"
   ]
  },
  {
   "cell_type": "code",
   "execution_count": 25,
   "metadata": {},
   "outputs": [],
   "source": [
    "# Lists to store evaluation metrics\n",
    "bal_acc_list = []\n",
    "f1_score_list = []\n",
    "kappa_list = []\n",
    "k_list = []\n",
    "\n",
    "for k in range(1, 21):\n",
    "    RFE_rf = RFE(estimator=rf_model, n_features_to_select=k, step=1)\n",
    "    RFE_rf.fit(X_train_v3, y_train_v3)\n",
    "    sel_X_train_rf = RFE_rf.transform(X_train_v3)\n",
    "    sel_X_test_rf = RFE_rf.transform(X_test_v3)\n",
    " \n",
    "    RFE_xgb = RFE(estimator=xgb_model, n_features_to_select=k, step=1)\n",
    "    RFE_xgb.fit(X_train_v3, y_train_v3)\n",
    "    sel_X_train_xgb = RFE_xgb.transform(X_train_v3)\n",
    "    sel_X_test_xgb = RFE_xgb.transform(X_test_v3)\n",
    "\n",
    "    sel_X_train_v3 = np.concatenate([sel_X_train_rf, sel_X_train_xgb], axis=1)\n",
    "    sel_X_test_v3 = np.concatenate([sel_X_test_rf, sel_X_test_xgb], axis=1)\n",
    "    \n",
    "    stacking_ensemble.fit(sel_X_train_v3, y_train_v3)\n",
    "    RFE_preds = stacking_ensemble.predict(sel_X_test_v3)\n",
    "\n",
    "    bal_acc_kbest = round(balanced_accuracy_score(y_test_v3, RFE_preds), 2)\n",
    "    f1_score_kbest = round(f1_score(y_test_v3, RFE_preds), 2)\n",
    "    kappa_kbest = round(cohen_kappa_score(y_test_v3, RFE_preds), 2)\n",
    "    \n",
    "    bal_acc_list.append(bal_acc_kbest)\n",
    "    f1_score_list.append(f1_score_kbest)\n",
    "    kappa_list.append(kappa_kbest)\n",
    "    k_list.append(k)"
   ]
  },
  {
   "cell_type": "code",
   "execution_count": null,
   "metadata": {},
   "outputs": [
    {
     "data": {
      "image/png": "[encoded data removed]",
      "text/plain": [
       "<Figure size 1200x600 with 1 Axes>"
      ]
     },
     "metadata": {},
     "output_type": "display_data"
    }
   ],
   "source": [
    "# Plotting the results\n",
    "plt.figure(figsize=(12, 6))\n",
    "\n",
    "# Plot each metric\n",
    "plt.plot(k_list, bal_acc_list, marker='o', label='Balanced Accuracy', color='blue')\n",
    "plt.plot(k_list, f1_score_list, marker='o', label='F1 Score', color='orange')\n",
    "plt.plot(k_list, kappa_list, marker='o', label='Kappa Score', color='green')\n",
    "\n",
    "# Mark maximum values\n",
    "max_bal_acc = np.max(bal_acc_list)\n",
    "max_f1 = np.max(f1_score_list)\n",
    "max_kappa = np.max(kappa_list)\n",
    "\n",
    "# Display max values\n",
    "plt.scatter(np.argmax(bal_acc_list) + 1, max_bal_acc, color='blue', s=100, edgecolor='black', label='Max Balanced Accuracy', marker='s')\n",
    "plt.scatter(np.argmax(f1_score_list) + 1, max_f1, color='orange', s=100, edgecolor='black', label='Max F1 Score', marker='s')\n",
    "plt.scatter(np.argmax(kappa_list) + 1, max_kappa, color='green', s=100, edgecolor='black', label='Max Kappa Score', marker='s')\n",
    "\n",
    "# Add labels and title\n",
    "plt.xlabel('Number of features selected using RFE')\n",
    "plt.ylabel('Score')\n",
    "plt.legend()\n",
    "plt.grid(True)\n",
    "plt.show()"
   ]
  },
  {
   "cell_type": "code",
   "execution_count": 33,
   "metadata": {},
   "outputs": [
    {
     "name": "stdout",
     "output_type": "stream",
     "text": [
      "Max Bal Acc: 0.65\n",
      "Max F1 score: 0.42\n",
      "Max kappa: 0.37\n"
     ]
    }
   ],
   "source": [
    "# Print maximum scores\n",
    "print('Max Bal Acc:', max_bal_acc)\n",
    "print('Max F1 score:', max_f1)\n",
    "print('Max kappa:', max_kappa)"
   ]
  },
  {
   "cell_type": "code",
   "execution_count": 34,
   "metadata": {},
   "outputs": [
    {
     "data": {
      "text/plain": [
       "9"
      ]
     },
     "execution_count": 34,
     "metadata": {},
     "output_type": "execute_result"
    }
   ],
   "source": [
    "# Determine best k based on balanced accuracy\n",
    "best_k_using_bal_acc = np.argmax(bal_acc_list) + 1\n",
    "best_k_using_bal_acc"
   ]
  },
  {
   "cell_type": "code",
   "execution_count": 35,
   "metadata": {},
   "outputs": [
    {
     "name": "stdout",
     "output_type": "stream",
     "text": [
      "Fitur terpilih untuk model stacking: ['KALORI_KAP', 'Pengeluaran_Jenis_D', 'Pengeluaran_Jenis_N', 'R105', 'Pengeluaran_Jenis_B', 'nilai_bantuan(rp)', 'rataan_beras(rp)', 'rataan_telur(rp)', 'rataan_lainnya(rp)']\n",
      "Jumlah fitur terpilih: 9\n"
     ]
    }
   ],
   "source": [
    "# Final RFE selection dengan jumlah fitur terbaik untuk masing-masing model\n",
    "RFE_rf_final = RFE(estimator=rf_model, n_features_to_select=best_k_using_bal_acc, step=1)\n",
    "RFE_xgb_final = RFE(estimator=xgb_model, n_features_to_select=best_k_using_bal_acc, step=1)\n",
    "\n",
    "RFE_rf_final.fit(X_train_v3, y_train_v3)\n",
    "RFE_xgb_final.fit(X_train_v3, y_train_v3)\n",
    "\n",
    "# Mendapatkan mask fitur yang dipilih oleh RFE untuk masing-masing model\n",
    "selected_features_mask_rf = RFE_rf_final.get_support()\n",
    "selected_features_mask_xgb = RFE_xgb_final.get_support()\n",
    "\n",
    "# Mendapatkan nama fitur yang terpilih dari Random Forest dan XGBoost\n",
    "selected_features_rf = X_train_v3.columns[selected_features_mask_rf]\n",
    "selected_features_xgb = X_train_v3.columns[selected_features_mask_xgb]\n",
    "\n",
    "# Menggabungkan fitur tanpa duplikasi\n",
    "selected_features_combined = selected_features_rf.union(selected_features_xgb)\n",
    "\n",
    "# Jika gabungan fitur melebihi jumlah best_k_using_bal_acc, pilih hanya best_k_using_bal_acc fitur\n",
    "if len(selected_features_combined) > best_k_using_bal_acc:\n",
    "    # Menghitung frekuensi kemunculan fitur yang terpilih di antara kedua model\n",
    "    all_selected_features = list(selected_features_rf) + list(selected_features_xgb)\n",
    "    feature_counts = pd.Series(all_selected_features).value_counts()\n",
    "\n",
    "    # Memilih hanya `best_k_using_bal_acc` fitur yang paling sering muncul\n",
    "    selected_features_combined = feature_counts.nlargest(best_k_using_bal_acc).index.tolist()\n",
    "\n",
    "# Seleksi data latih dan data uji berdasarkan fitur gabungan yang telah dipilih\n",
    "sel_X_train_final = X_train_v3[selected_features_combined]\n",
    "sel_X_test_final = X_test_v3[selected_features_combined]\n",
    "\n",
    "# Memeriksa apakah selected_features_combined telah berhasil dibuat dan sesuai dengan jumlah fitur yang diinginkan\n",
    "print(\"Fitur terpilih untuk model stacking:\", selected_features_combined)\n",
    "print(\"Jumlah fitur terpilih:\", len(selected_features_combined))\n"
   ]
  },
  {
   "cell_type": "code",
   "execution_count": 36,
   "metadata": {},
   "outputs": [
    {
     "name": "stdout",
     "output_type": "stream",
     "text": [
      "Holdout Evaluation (Train):\n",
      "Balanced Accuracy: 0.72\n",
      "F1 Score: 0.58\n",
      "Kappa: 0.55\n",
      "\n",
      "Holdout Evaluation (Test):\n",
      "Balanced Accuracy: 0.64\n",
      "F1 Score: 0.39\n",
      "Kappa: 0.34\n",
      "Sensitivity (Recall): 0.3\n",
      "Specificity: 0.97\n"
     ]
    },
    {
     "data": {
      "image/png": "[encoded data removed]",
      "text/plain": [
       "<Figure size 800x600 with 2 Axes>"
      ]
     },
     "metadata": {},
     "output_type": "display_data"
    }
   ],
   "source": [
    "sel_X_train_final = X_train_v3[selected_features_combined]\n",
    "sel_X_test_final = X_test_v3[selected_features_combined]\n",
    "eval_model_holdout(stacking_ensemble, sel_X_train_final, y_train_v3, sel_X_test_final, y_test_v3, plot=True)"
   ]
  },
  {
   "cell_type": "code",
   "execution_count": 31,
   "metadata": {},
   "outputs": [
    {
     "name": "stdout",
     "output_type": "stream",
     "text": [
      "Mean Bal Acc (Test)  : 0.63\n",
      "Mean F1 Score (Test) : 0.39\n",
      "Mean Kappa (Test)    : 0.34\n",
      "Mean Sensitivity (Test): 0.29\n",
      "Mean Specificity (Test): 0.98\n"
     ]
    }
   ],
   "source": [
    "eval_model_CV(stacking_ensemble, X_ori[selected_features_combined], y_ori)"
   ]
  },
  {
   "cell_type": "markdown",
   "metadata": {},
   "source": [
    "## PSO"
   ]
  },
  {
   "cell_type": "code",
   "execution_count": 14,
   "metadata": {},
   "outputs": [],
   "source": [
    "X_train_v4, X_test_v4, y_train_v4, y_test_v4 = X_train.copy(), X_test.copy(), y_train.copy(), y_test.copy()"
   ]
  },
  {
   "cell_type": "code",
   "execution_count": 20,
   "metadata": {},
   "outputs": [
    {
     "name": "stderr",
     "output_type": "stream",
     "text": [
      "2024-11-15 16:37:37,935 - pyswarms.single.global_best - INFO - Optimize for 50 iters with {'c1': 0.5, 'c2': 0.3, 'w': 0.9}\n",
      "pyswarms.single.global_best: 100%|██████████|50/50, best_cost=-0.668\n",
      "2024-11-15 18:06:55,817 - pyswarms.single.global_best - INFO - Optimization finished | best cost: -0.667654266619121, best pos: [0.6946083  1.35611652 1.46905061 0.87929463 0.9649428  1.16173132\n",
      " 2.28562209 1.03111379 0.62058953 0.40293025 0.89798545 0.6404104\n",
      " 0.01545734 0.81448232 0.55670664 1.60579043 0.85982574 0.85388983\n",
      " 0.97494055 0.46223894 0.39131009 0.83520404 1.4950787  1.63442428]\n",
      "2024-11-15 18:06:55,823 - pyswarms.single.global_best - INFO - Optimize for 50 iters with {'c1': 0.5, 'c2': 0.3, 'w': 0.9}\n",
      "pyswarms.single.global_best: 100%|██████████|50/50, best_cost=-0.681\n",
      "2024-11-15 18:14:03,644 - pyswarms.single.global_best - INFO - Optimization finished | best cost: -0.6808233618518609, best pos: [1.36388675 0.80356414 0.91294759 1.10144392 0.20773998 0.99395646\n",
      " 0.58726272 0.64887847 0.99227267 0.69653489 0.79826489 1.18010607\n",
      " 0.82405824 0.9674152  1.03724934 0.94546743 0.91901832 2.60796546\n",
      " 1.29135285 0.94533123 0.62967258 0.67370605 0.31509927 1.47194315]\n"
     ]
    }
   ],
   "source": [
    "\n",
    "# Define objective function for PSO\n",
    "def objective_function(swarm_position, X, y, model):\n",
    "    n_particles = swarm_position.shape[0]\n",
    "    costs = np.zeros(n_particles)\n",
    "\n",
    "    for i in range(n_particles):\n",
    "        # Binary mask for selected features\n",
    "        mask = swarm_position[i] > 0.5\n",
    "        if np.sum(mask) == 0:\n",
    "            costs[i] = float('inf')  # Assign high cost for no features selected\n",
    "        else:\n",
    "            X_subset = X[:, mask]\n",
    "            scores = cross_val_score(model, X_subset, y, cv=5, scoring='balanced_accuracy')\n",
    "            costs[i] = -np.mean(scores)  # Negative to minimize\n",
    "\n",
    "    return costs\n",
    "\n",
    "# Convert DataFrame to NumPy arrays\n",
    "X_train_np = X_train_v4.values\n",
    "X_test_np = X_test_v4.values\n",
    "y_train_np = y_train_v4.values\n",
    "y_test_np = y_test_v4.values\n",
    "\n",
    "# PSO options\n",
    "options = {'c1': 0.5, 'c2': 0.3, 'w': 0.9}\n",
    "\n",
    "# Initialize models\n",
    "rf_model = RandomForestClassifier(random_state=86)\n",
    "xgb_model = XGBClassifier(random_state=86, eval_metric='logloss')\n",
    "\n",
    "# PSO for Random Forest\n",
    "optimizer_rf = GlobalBestPSO(n_particles=20, dimensions=X_train_np.shape[1], options=options)\n",
    "cost_rf, pos_rf = optimizer_rf.optimize(objective_function, iters=50, X=X_train_np, y=y_train_np, model=rf_model)\n",
    "selected_rf = pos_rf > 0.5\n",
    "sel_X_train_rf = X_train_np[:, selected_rf]\n",
    "sel_X_test_rf = X_test_np[:, selected_rf]\n",
    "\n",
    "# PSO for XGBoost\n",
    "optimizer_xgb = GlobalBestPSO(n_particles=20, dimensions=X_train_np.shape[1], options=options)\n",
    "cost_xgb, pos_xgb = optimizer_xgb.optimize(objective_function, iters=50, X=X_train_np, y=y_train_np, model=xgb_model)\n",
    "selected_xgb = pos_xgb > 0.5\n",
    "sel_X_train_xgb = X_train_np[:, selected_xgb]\n",
    "sel_X_test_xgb = X_test_np[:, selected_xgb]\n",
    "\n",
    "# Combine selected features from RF and XGB\n",
    "sel_X_train_stacking = np.concatenate([sel_X_train_rf, sel_X_train_xgb], axis=1)\n",
    "sel_X_test_stacking = np.concatenate([sel_X_test_rf, sel_X_test_xgb], axis=1)\n",
    "\n",
    "# Define stacking ensemble\n",
    "estimators = [('rf', rf_model), ('xgb', xgb_model)]\n",
    "stacking_ensemble = StackingClassifier(estimators=estimators, final_estimator=LogisticRegression(random_state=86))\n",
    "stacking_ensemble.fit(sel_X_train_stacking, y_train_v4)\n",
    "\n",
    "# Predictions and metrics\n",
    "stacking_preds = stacking_ensemble.predict(sel_X_test_stacking)\n",
    "bal_acc_stacking = balanced_accuracy_score(y_test_v4, stacking_preds)\n",
    "f1_stacking = f1_score(y_test_v4, stacking_preds)\n",
    "kappa_stacking = cohen_kappa_score(y_test_v4, stacking_preds)"
   ]
  },
  {
   "cell_type": "code",
   "execution_count": 23,
   "metadata": {},
   "outputs": [
    {
     "name": "stdout",
     "output_type": "stream",
     "text": [
      "Error: One or more metric lists are empty. Ensure PSO and evaluation steps ran successfully.\n"
     ]
    }
   ],
   "source": [
    "import matplotlib.pyplot as plt\n",
    "import numpy as np\n",
    "\n",
    "# Pastikan bahwa `bal_acc_list`, `f1_score_list`, dan `kappa_list` memiliki elemen\n",
    "if bal_acc_list and f1_score_list and kappa_list:\n",
    "    # Hitung jumlah fitur terpilih berdasarkan posisi terbaik dari PSO\n",
    "    num_features_rf = [np.sum(pos_rf > 0.5)] * len(bal_acc_list)  # Fitur terpilih oleh RF\n",
    "    num_features_xgb = [np.sum(pos_xgb > 0.5)] * len(bal_acc_list)  # Fitur terpilih oleh XGB\n",
    "    num_features_combined = [rf + xgb for rf, xgb in zip(num_features_rf, num_features_xgb)]  # Gabungan fitur RF dan XGB\n",
    "\n",
    "    # Plotting\n",
    "    plt.figure(figsize=(12, 6))\n",
    "\n",
    "    # Plot setiap metrik\n",
    "    plt.plot(num_features_combined, bal_acc_list, marker='o', label='Balanced Accuracy', color='blue')\n",
    "    plt.plot(num_features_combined, f1_score_list, marker='o', label='F1 Score', color='orange')\n",
    "    plt.plot(num_features_combined, kappa_list, marker='o', label='Kappa Score', color='green')\n",
    "\n",
    "    # Mark nilai maksimum\n",
    "    max_bal_acc = np.max(bal_acc_list)\n",
    "    max_f1 = np.max(f1_score_list)\n",
    "    max_kappa = np.max(kappa_list)\n",
    "\n",
    "    plt.scatter(num_features_combined[np.argmax(bal_acc_list)], max_bal_acc, color='blue', s=100, edgecolor='black', label='Max Balanced Accuracy', marker='s')\n",
    "    plt.scatter(num_features_combined[np.argmax(f1_score_list)], max_f1, color='orange', s=100, edgecolor='black', label='Max F1 Score', marker='s')\n",
    "    plt.scatter(num_features_combined[np.argmax(kappa_list)], max_kappa, color='green', s=100, edgecolor='black', label='Max Kappa Score', marker='s')\n",
    "\n",
    "    # Tambahkan label dan judul\n",
    "    plt.xlabel('Number of features selected using PSO')\n",
    "    plt.ylabel('Score')\n",
    "    plt.title('Performance Metrics vs Number of Features Selected (PSO)')\n",
    "    plt.legend()\n",
    "    plt.grid(True)\n",
    "    plt.show()\n",
    "else:\n",
    "    print(\"Error: One or more metric lists are empty. Ensure PSO and evaluation steps ran successfully.\")"
   ]
  },
  {
   "cell_type": "code",
   "execution_count": null,
   "metadata": {},
   "outputs": [
    {
     "name": "stdout",
     "output_type": "stream",
     "text": [
      "Error: Metric lists are empty. Ensure PSO and evaluation steps ran successfully.\n"
     ]
    }
   ],
   "source": [
    "# Calculate maximum values and their corresponding indices\n",
    "max_bal_acc = np.max(bal_acc_list)\n",
    "max_f1 = np.max(f1_score_list)\n",
    "max_kappa = np.max(kappa_list)\n",
    "\n",
    "max_bal_acc_idx = np.argmax(bal_acc_list)\n",
    "max_f1_idx = np.argmax(f1_score_list)\n",
    "max_kappa_idx = np.argmax(kappa_list)\n",
    "\n",
    "# Print maximum scores and their corresponding number of selected features\n",
    "print(f\"Max Balanced Accuracy: {max_bal_acc} (Selected Features: {num_features_combined[max_bal_acc_idx]})\")\n",
    "print(f\"Max F1 Score: {max_f1} (Selected Features: {num_features_combined[max_f1_idx]})\")\n",
    "print(f\"Max Cohen's Kappa: {max_kappa} (Selected Features: {num_features_combined[max_kappa_idx]})\")"
   ]
  },
  {
   "cell_type": "code",
   "execution_count": null,
   "metadata": {},
   "outputs": [],
   "source": [
    "# Determine best number of features (k) based on balanced accuracy\n",
    "best_k_using_bal_acc_idx = np.argmax(bal_acc_list)  # Index of maximum Balanced Accuracy\n",
    "best_num_features = num_features_combined[best_k_using_bal_acc_idx]  # Corresponding number of features\n",
    "\n",
    "print(f\"Best number of features using Balanced Accuracy: {best_num_features}\")"
   ]
  },
  {
   "cell_type": "code",
   "execution_count": null,
   "metadata": {},
   "outputs": [],
   "source": [
    "# Mendapatkan mask fitur yang dipilih oleh PSO untuk masing-masing model\n",
    "selected_features_mask_rf = pos_rf > 0.5  # Mask dari PSO untuk Random Forest\n",
    "selected_features_mask_xgb = pos_xgb > 0.5  # Mask dari PSO untuk XGBoost\n",
    "\n",
    "# Mendapatkan nama fitur yang terpilih dari Random Forest dan XGBoost\n",
    "selected_features_rf = X_train_v4.columns[selected_features_mask_rf]\n",
    "selected_features_xgb = X_train_v4.columns[selected_features_mask_xgb]\n",
    "\n",
    "# Menggabungkan fitur tanpa duplikasi\n",
    "selected_features_combined = selected_features_rf.union(selected_features_xgb)\n",
    "\n",
    "# Jika gabungan fitur melebihi jumlah best_k_using_bal_acc, pilih hanya `best_k_using_bal_acc` fitur\n",
    "if len(selected_features_combined) > best_num_features:\n",
    "    # Menghitung frekuensi kemunculan fitur yang terpilih di antara kedua model\n",
    "    all_selected_features = list(selected_features_rf) + list(selected_features_xgb)\n",
    "    feature_counts = pd.Series(all_selected_features).value_counts()\n",
    "\n",
    "    # Memilih hanya `best_num_features` fitur yang paling sering muncul\n",
    "    selected_features_combined = feature_counts.nlargest(best_num_features).index.tolist()\n",
    "\n",
    "# Seleksi data latih dan data uji berdasarkan fitur gabungan yang telah dipilih\n",
    "sel_X_train_final = X_train_v4[selected_features_combined]\n",
    "sel_X_test_final = X_test_v4[selected_features_combined]\n",
    "\n",
    "# Memeriksa apakah selected_features_combined telah berhasil dibuat dan sesuai dengan jumlah fitur yang diinginkan\n",
    "print(\"Fitur terpilih untuk model stacking:\", selected_features_combined)\n",
    "print(\"Jumlah fitur terpilih:\", len(selected_features_combined))"
   ]
  },
  {
   "cell_type": "code",
   "execution_count": null,
   "metadata": {},
   "outputs": [],
   "source": []
  }
 ],
 "metadata": {
  "kernelspec": {
   "display_name": "Python 3",
   "language": "python",
   "name": "python3"
  },
  "language_info": {
   "codemirror_mode": {
    "name": "ipython",
    "version": 3
   },
   "file_extension": ".py",
   "mimetype": "text/x-python",
   "name": "python",
   "nbconvert_exporter": "python",
   "pygments_lexer": "ipython3",
   "version": "3.12.3"
  }
 },
 "nbformat": 4,
 "nbformat_minor": 2
}
